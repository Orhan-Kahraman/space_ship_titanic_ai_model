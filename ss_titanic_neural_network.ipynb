{
 "cells": [
  {
   "attachments": {},
   "cell_type": "markdown",
   "metadata": {},
   "source": [
    "# Welcome To My SpaceShip Titanic Ai Model"
   ]
  },
  {
   "attachments": {},
   "cell_type": "markdown",
   "metadata": {},
   "source": [
    "In this model, the problem will be tried to be solved with the random forest model on the binary classification problem."
   ]
  },
  {
   "attachments": {},
   "cell_type": "markdown",
   "metadata": {},
   "source": [
    "## Data importing"
   ]
  },
  {
   "cell_type": "code",
   "execution_count": 439,
   "metadata": {},
   "outputs": [],
   "source": [
    "import pandas as pd\n",
    "import numpy as np"
   ]
  },
  {
   "cell_type": "code",
   "execution_count": 440,
   "metadata": {},
   "outputs": [],
   "source": [
    "df_train = pd.read_csv(\"../../database/spceship_titanic/train.csv\")\n",
    "df_test = pd.read_csv(\"../../database/spceship_titanic/test.csv\")"
   ]
  },
  {
   "attachments": {},
   "cell_type": "markdown",
   "metadata": {},
   "source": [
    "## Data Review"
   ]
  },
  {
   "cell_type": "code",
   "execution_count": 441,
   "metadata": {},
   "outputs": [
    {
     "data": {
      "text/plain": [
       "(8693, 14)"
      ]
     },
     "execution_count": 441,
     "metadata": {},
     "output_type": "execute_result"
    }
   ],
   "source": [
    "df_train.shape"
   ]
  },
  {
   "cell_type": "code",
   "execution_count": 442,
   "metadata": {},
   "outputs": [
    {
     "data": {
      "text/plain": [
       "(4277, 13)"
      ]
     },
     "execution_count": 442,
     "metadata": {},
     "output_type": "execute_result"
    }
   ],
   "source": [
    "df_test.shape"
   ]
  },
  {
   "attachments": {},
   "cell_type": "markdown",
   "metadata": {},
   "source": [
    "Let's make a copy of the file to use the PassengerId property later."
   ]
  },
  {
   "cell_type": "code",
   "execution_count": 443,
   "metadata": {},
   "outputs": [],
   "source": [
    "df_test_original = df_test.copy()"
   ]
  },
  {
   "cell_type": "code",
   "execution_count": 444,
   "metadata": {},
   "outputs": [
    {
     "data": {
      "text/plain": [
       "PassengerId      object\n",
       "HomePlanet       object\n",
       "CryoSleep        object\n",
       "Cabin            object\n",
       "Destination      object\n",
       "Age             float64\n",
       "VIP              object\n",
       "RoomService     float64\n",
       "FoodCourt       float64\n",
       "ShoppingMall    float64\n",
       "Spa             float64\n",
       "VRDeck          float64\n",
       "Name             object\n",
       "Transported        bool\n",
       "dtype: object"
      ]
     },
     "execution_count": 444,
     "metadata": {},
     "output_type": "execute_result"
    }
   ],
   "source": [
    "df_train.dtypes"
   ]
  },
  {
   "attachments": {},
   "cell_type": "markdown",
   "metadata": {},
   "source": [
    "## Processing Data"
   ]
  },
  {
   "attachments": {},
   "cell_type": "markdown",
   "metadata": {},
   "source": [
    "### Preprocesssing PassengerId column"
   ]
  },
  {
   "cell_type": "code",
   "execution_count": 445,
   "metadata": {},
   "outputs": [],
   "source": [
    "df_train['PassengerGroup'] = df_train['PassengerId'].str.split(\"_\").str[0]\n",
    "df_test['PassengerGroup'] = df_test['PassengerId'].str.split(\"_\").str[0]\n",
    "\n",
    "df_train['PassengerGroup'] = df_train['PassengerGroup'].astype(int)\n",
    "df_test['PassengerGroup'] = df_test['PassengerGroup'].astype(int)\n",
    "\n",
    "df_train = df_train.drop([\"PassengerId\",\"Name\"],axis=1)\n",
    "df_test = df_test.drop([\"PassengerId\",\"Name\"],axis=1)"
   ]
  },
  {
   "cell_type": "code",
   "execution_count": 446,
   "metadata": {},
   "outputs": [
    {
     "data": {
      "text/plain": [
       "HomePlanet        201\n",
       "CryoSleep         217\n",
       "Cabin             199\n",
       "Destination       182\n",
       "Age               179\n",
       "VIP               203\n",
       "RoomService       181\n",
       "FoodCourt         183\n",
       "ShoppingMall      208\n",
       "Spa               183\n",
       "VRDeck            188\n",
       "Transported         0\n",
       "PassengerGroup      0\n",
       "dtype: int64"
      ]
     },
     "execution_count": 446,
     "metadata": {},
     "output_type": "execute_result"
    }
   ],
   "source": [
    "df_train.isnull().sum()"
   ]
  },
  {
   "attachments": {},
   "cell_type": "markdown",
   "metadata": {},
   "source": [
    "### Preprocessing VIP and CryoSleep columns"
   ]
  },
  {
   "cell_type": "code",
   "execution_count": 447,
   "metadata": {},
   "outputs": [],
   "source": [
    "most_common_CryoSleep = df_train['CryoSleep'].mode()[0]\n",
    "most_common_VIP = df_train['VIP'].mode()[0]\n",
    "\n",
    "df_train['CryoSleep'].fillna(most_common_CryoSleep, inplace=True)\n",
    "df_train['VIP'].fillna(most_common_VIP, inplace=True)"
   ]
  },
  {
   "cell_type": "code",
   "execution_count": 448,
   "metadata": {},
   "outputs": [],
   "source": [
    "most_common_CryoSleep_test = df_test['CryoSleep'].mode()[0]\n",
    "most_common_VIP_test = df_test['VIP'].mode()[0]\n",
    "\n",
    "df_test['CryoSleep'].fillna(most_common_CryoSleep_test, inplace=True)\n",
    "df_test['VIP'].fillna(most_common_VIP_test, inplace=True)"
   ]
  },
  {
   "cell_type": "code",
   "execution_count": 449,
   "metadata": {},
   "outputs": [
    {
     "data": {
      "text/plain": [
       "HomePlanet        201\n",
       "CryoSleep           0\n",
       "Cabin             199\n",
       "Destination       182\n",
       "Age               179\n",
       "VIP                 0\n",
       "RoomService       181\n",
       "FoodCourt         183\n",
       "ShoppingMall      208\n",
       "Spa               183\n",
       "VRDeck            188\n",
       "Transported         0\n",
       "PassengerGroup      0\n",
       "dtype: int64"
      ]
     },
     "execution_count": 449,
     "metadata": {},
     "output_type": "execute_result"
    }
   ],
   "source": [
    "df_train.isnull().sum()"
   ]
  },
  {
   "attachments": {},
   "cell_type": "markdown",
   "metadata": {},
   "source": [
    "### Preprocessing Cabin column"
   ]
  },
  {
   "cell_type": "code",
   "execution_count": 450,
   "metadata": {},
   "outputs": [],
   "source": [
    "df_train['Cabin'].fillna('U/0/U', inplace=True)\n",
    "df_test['Cabin'].fillna('U/0/U', inplace=True)\n",
    "\n",
    "df_train[['Deck','Num','Side']] = df_train.Cabin.str.split(\"/\",expand=True)\n",
    "df_test[['Deck','Num','Side']] = df_test.Cabin.str.split(\"/\",expand=True)\n",
    "\n",
    "df_train.drop('Cabin', axis=1, inplace=True)\n",
    "df_test.drop('Cabin', axis=1, inplace=True)"
   ]
  },
  {
   "cell_type": "code",
   "execution_count": 451,
   "metadata": {},
   "outputs": [],
   "source": [
    "df_train['Num'] = pd.to_numeric(df_train['Num'])\n",
    "df_test['Num'] = pd.to_numeric(df_test['Num'])"
   ]
  },
  {
   "cell_type": "code",
   "execution_count": 452,
   "metadata": {},
   "outputs": [
    {
     "data": {
      "text/plain": [
       "HomePlanet        201\n",
       "CryoSleep           0\n",
       "Destination       182\n",
       "Age               179\n",
       "VIP                 0\n",
       "RoomService       181\n",
       "FoodCourt         183\n",
       "ShoppingMall      208\n",
       "Spa               183\n",
       "VRDeck            188\n",
       "Transported         0\n",
       "PassengerGroup      0\n",
       "Deck                0\n",
       "Num                 0\n",
       "Side                0\n",
       "dtype: int64"
      ]
     },
     "execution_count": 452,
     "metadata": {},
     "output_type": "execute_result"
    }
   ],
   "source": [
    "df_train.isnull().sum()"
   ]
  },
  {
   "cell_type": "code",
   "execution_count": 453,
   "metadata": {},
   "outputs": [
    {
     "data": {
      "text/plain": [
       "array(['B', 'F', 'A', 'G', 'U', 'E', 'D', 'C', 'T'], dtype=object)"
      ]
     },
     "execution_count": 453,
     "metadata": {},
     "output_type": "execute_result"
    }
   ],
   "source": [
    "df_train.Deck.unique()"
   ]
  },
  {
   "cell_type": "code",
   "execution_count": 454,
   "metadata": {},
   "outputs": [
    {
     "data": {
      "text/plain": [
       "array(['P', 'S', 'U'], dtype=object)"
      ]
     },
     "execution_count": 454,
     "metadata": {},
     "output_type": "execute_result"
    }
   ],
   "source": [
    "df_train.Side.unique()"
   ]
  },
  {
   "attachments": {},
   "cell_type": "markdown",
   "metadata": {},
   "source": [
    "### Preprocessing Spend Columns and Age Column"
   ]
  },
  {
   "cell_type": "code",
   "execution_count": 455,
   "metadata": {},
   "outputs": [],
   "source": [
    "spend_columns = ['RoomService', 'FoodCourt', 'ShoppingMall', 'Spa', 'VRDeck']\n",
    "for col in spend_columns:\n",
    "    df_train[col].fillna(0, inplace=True)\n",
    "    df_test[col].fillna(0, inplace=True)"
   ]
  },
  {
   "cell_type": "code",
   "execution_count": 456,
   "metadata": {},
   "outputs": [],
   "source": [
    "df_train['TotalSpend'] = df_train[spend_columns].sum(axis=1)\n",
    "df_test['TotalSpend'] = df_test[spend_columns].sum(axis=1)"
   ]
  },
  {
   "cell_type": "code",
   "execution_count": 457,
   "metadata": {},
   "outputs": [],
   "source": [
    "for col in spend_columns:\n",
    "    df_train[col] = df_train[col] / df_train['TotalSpend'] * 100\n",
    "    df_test[col] = df_test[col] / df_test['TotalSpend'] * 100"
   ]
  },
  {
   "cell_type": "code",
   "execution_count": 458,
   "metadata": {},
   "outputs": [],
   "source": [
    "df_train[spend_columns] = df_train[spend_columns].fillna(0)\n",
    "df_test[spend_columns] = df_test[spend_columns].fillna(0)"
   ]
  },
  {
   "cell_type": "code",
   "execution_count": 459,
   "metadata": {},
   "outputs": [
    {
     "data": {
      "text/html": [
       "<div>\n",
       "<style scoped>\n",
       "    .dataframe tbody tr th:only-of-type {\n",
       "        vertical-align: middle;\n",
       "    }\n",
       "\n",
       "    .dataframe tbody tr th {\n",
       "        vertical-align: top;\n",
       "    }\n",
       "\n",
       "    .dataframe thead th {\n",
       "        text-align: right;\n",
       "    }\n",
       "</style>\n",
       "<table border=\"1\" class=\"dataframe\">\n",
       "  <thead>\n",
       "    <tr style=\"text-align: right;\">\n",
       "      <th></th>\n",
       "      <th>HomePlanet</th>\n",
       "      <th>CryoSleep</th>\n",
       "      <th>Destination</th>\n",
       "      <th>Age</th>\n",
       "      <th>VIP</th>\n",
       "      <th>RoomService</th>\n",
       "      <th>FoodCourt</th>\n",
       "      <th>ShoppingMall</th>\n",
       "      <th>Spa</th>\n",
       "      <th>VRDeck</th>\n",
       "      <th>Transported</th>\n",
       "      <th>PassengerGroup</th>\n",
       "      <th>Deck</th>\n",
       "      <th>Num</th>\n",
       "      <th>Side</th>\n",
       "      <th>TotalSpend</th>\n",
       "    </tr>\n",
       "  </thead>\n",
       "  <tbody>\n",
       "    <tr>\n",
       "      <th>0</th>\n",
       "      <td>Europa</td>\n",
       "      <td>False</td>\n",
       "      <td>TRAPPIST-1e</td>\n",
       "      <td>39.0</td>\n",
       "      <td>False</td>\n",
       "      <td>0.000000</td>\n",
       "      <td>0.000000</td>\n",
       "      <td>0.000000</td>\n",
       "      <td>0.000000</td>\n",
       "      <td>0.000000</td>\n",
       "      <td>False</td>\n",
       "      <td>1</td>\n",
       "      <td>B</td>\n",
       "      <td>0</td>\n",
       "      <td>P</td>\n",
       "      <td>0.0</td>\n",
       "    </tr>\n",
       "    <tr>\n",
       "      <th>1</th>\n",
       "      <td>Earth</td>\n",
       "      <td>False</td>\n",
       "      <td>TRAPPIST-1e</td>\n",
       "      <td>24.0</td>\n",
       "      <td>False</td>\n",
       "      <td>14.809783</td>\n",
       "      <td>1.222826</td>\n",
       "      <td>3.396739</td>\n",
       "      <td>74.592391</td>\n",
       "      <td>5.978261</td>\n",
       "      <td>True</td>\n",
       "      <td>2</td>\n",
       "      <td>F</td>\n",
       "      <td>0</td>\n",
       "      <td>S</td>\n",
       "      <td>736.0</td>\n",
       "    </tr>\n",
       "    <tr>\n",
       "      <th>2</th>\n",
       "      <td>Europa</td>\n",
       "      <td>False</td>\n",
       "      <td>TRAPPIST-1e</td>\n",
       "      <td>58.0</td>\n",
       "      <td>True</td>\n",
       "      <td>0.414138</td>\n",
       "      <td>34.440913</td>\n",
       "      <td>0.000000</td>\n",
       "      <td>64.673023</td>\n",
       "      <td>0.471925</td>\n",
       "      <td>False</td>\n",
       "      <td>3</td>\n",
       "      <td>A</td>\n",
       "      <td>0</td>\n",
       "      <td>S</td>\n",
       "      <td>10383.0</td>\n",
       "    </tr>\n",
       "    <tr>\n",
       "      <th>3</th>\n",
       "      <td>Europa</td>\n",
       "      <td>False</td>\n",
       "      <td>TRAPPIST-1e</td>\n",
       "      <td>33.0</td>\n",
       "      <td>False</td>\n",
       "      <td>0.000000</td>\n",
       "      <td>24.787481</td>\n",
       "      <td>7.167697</td>\n",
       "      <td>64.316074</td>\n",
       "      <td>3.728748</td>\n",
       "      <td>False</td>\n",
       "      <td>3</td>\n",
       "      <td>A</td>\n",
       "      <td>0</td>\n",
       "      <td>S</td>\n",
       "      <td>5176.0</td>\n",
       "    </tr>\n",
       "    <tr>\n",
       "      <th>4</th>\n",
       "      <td>Earth</td>\n",
       "      <td>False</td>\n",
       "      <td>TRAPPIST-1e</td>\n",
       "      <td>16.0</td>\n",
       "      <td>False</td>\n",
       "      <td>27.772686</td>\n",
       "      <td>6.416132</td>\n",
       "      <td>13.840513</td>\n",
       "      <td>51.787351</td>\n",
       "      <td>0.183318</td>\n",
       "      <td>True</td>\n",
       "      <td>4</td>\n",
       "      <td>F</td>\n",
       "      <td>1</td>\n",
       "      <td>S</td>\n",
       "      <td>1091.0</td>\n",
       "    </tr>\n",
       "  </tbody>\n",
       "</table>\n",
       "</div>"
      ],
      "text/plain": [
       "  HomePlanet  CryoSleep  Destination   Age    VIP  RoomService  FoodCourt   \n",
       "0     Europa      False  TRAPPIST-1e  39.0  False     0.000000   0.000000  \\\n",
       "1      Earth      False  TRAPPIST-1e  24.0  False    14.809783   1.222826   \n",
       "2     Europa      False  TRAPPIST-1e  58.0   True     0.414138  34.440913   \n",
       "3     Europa      False  TRAPPIST-1e  33.0  False     0.000000  24.787481   \n",
       "4      Earth      False  TRAPPIST-1e  16.0  False    27.772686   6.416132   \n",
       "\n",
       "   ShoppingMall        Spa    VRDeck  Transported  PassengerGroup Deck  Num   \n",
       "0      0.000000   0.000000  0.000000        False               1    B    0  \\\n",
       "1      3.396739  74.592391  5.978261         True               2    F    0   \n",
       "2      0.000000  64.673023  0.471925        False               3    A    0   \n",
       "3      7.167697  64.316074  3.728748        False               3    A    0   \n",
       "4     13.840513  51.787351  0.183318         True               4    F    1   \n",
       "\n",
       "  Side  TotalSpend  \n",
       "0    P         0.0  \n",
       "1    S       736.0  \n",
       "2    S     10383.0  \n",
       "3    S      5176.0  \n",
       "4    S      1091.0  "
      ]
     },
     "execution_count": 459,
     "metadata": {},
     "output_type": "execute_result"
    }
   ],
   "source": [
    "df_train.head()"
   ]
  },
  {
   "cell_type": "code",
   "execution_count": 460,
   "metadata": {},
   "outputs": [],
   "source": [
    "df_train['Age'] = df_train['Age'].fillna(df_train['Age'].mean())\n",
    "df_test['Age'] = df_test['Age'].fillna(df_test['Age'].mean())"
   ]
  },
  {
   "cell_type": "code",
   "execution_count": 461,
   "metadata": {},
   "outputs": [],
   "source": [
    "bins = [0, 18, 35, 60, np.inf]  \n",
    "labels = ['Child', 'Young_Adult', 'Adult', 'Senior']\n",
    "\n",
    "df_train['AgeGroup'] = pd.cut(df_train['Age'], bins=bins, labels=labels)\n",
    "df_train = df_train.drop('Age', axis=1)\n",
    "\n",
    "df_test['AgeGroup'] = pd.cut(df_test['Age'], bins=bins, labels=labels)\n",
    "df_test = df_test.drop('Age', axis=1)"
   ]
  },
  {
   "cell_type": "code",
   "execution_count": 462,
   "metadata": {},
   "outputs": [
    {
     "data": {
      "text/plain": [
       "HomePlanet        201\n",
       "CryoSleep           0\n",
       "Destination       182\n",
       "VIP                 0\n",
       "RoomService         0\n",
       "FoodCourt           0\n",
       "ShoppingMall        0\n",
       "Spa                 0\n",
       "VRDeck              0\n",
       "Transported         0\n",
       "PassengerGroup      0\n",
       "Deck                0\n",
       "Num                 0\n",
       "Side                0\n",
       "TotalSpend          0\n",
       "AgeGroup          178\n",
       "dtype: int64"
      ]
     },
     "execution_count": 462,
     "metadata": {},
     "output_type": "execute_result"
    }
   ],
   "source": [
    "df_train.isnull().sum()"
   ]
  },
  {
   "cell_type": "code",
   "execution_count": 463,
   "metadata": {},
   "outputs": [
    {
     "data": {
      "text/plain": [
       "HomePlanet          object\n",
       "CryoSleep             bool\n",
       "Destination         object\n",
       "VIP                   bool\n",
       "RoomService        float64\n",
       "FoodCourt          float64\n",
       "ShoppingMall       float64\n",
       "Spa                float64\n",
       "VRDeck             float64\n",
       "Transported           bool\n",
       "PassengerGroup       int32\n",
       "Deck                object\n",
       "Num                  int64\n",
       "Side                object\n",
       "TotalSpend         float64\n",
       "AgeGroup          category\n",
       "dtype: object"
      ]
     },
     "execution_count": 463,
     "metadata": {},
     "output_type": "execute_result"
    }
   ],
   "source": [
    "df_train.dtypes"
   ]
  },
  {
   "attachments": {},
   "cell_type": "markdown",
   "metadata": {},
   "source": [
    "### Feature Engineering for VIP and CryoSleep"
   ]
  },
  {
   "cell_type": "code",
   "execution_count": 464,
   "metadata": {},
   "outputs": [],
   "source": [
    "df_train['VIP_or_Cryo'] = df_train['VIP'] | df_train['CryoSleep']\n",
    "df_test['VIP_or_Cryo'] = df_test['VIP'] | df_test['CryoSleep']"
   ]
  },
  {
   "cell_type": "code",
   "execution_count": 465,
   "metadata": {},
   "outputs": [],
   "source": [
    "df_train['VIP_and_Cryo'] = df_train['VIP'] & df_train['CryoSleep']\n",
    "df_test['VIP_and_Cryo'] = df_test['VIP'] & df_test['CryoSleep']"
   ]
  },
  {
   "cell_type": "code",
   "execution_count": 466,
   "metadata": {},
   "outputs": [],
   "source": [
    "bool_cols = ['CryoSleep', 'VIP','VIP_and_Cryo','VIP_or_Cryo']\n",
    "\n",
    "for col in bool_cols:\n",
    "    df_train[col] = df_train[col].astype(int)\n",
    "    df_test[col] = df_test[col].astype(int)"
   ]
  },
  {
   "cell_type": "code",
   "execution_count": 467,
   "metadata": {},
   "outputs": [],
   "source": [
    "df_train[ 'Transported'] = df_train[ 'Transported'].astype(int)"
   ]
  },
  {
   "attachments": {},
   "cell_type": "markdown",
   "metadata": {},
   "source": [
    "### One-Hot Coding"
   ]
  },
  {
   "cell_type": "code",
   "execution_count": 468,
   "metadata": {},
   "outputs": [
    {
     "data": {
      "text/plain": [
       "Index(['HomePlanet', 'CryoSleep', 'Destination', 'VIP', 'RoomService',\n",
       "       'FoodCourt', 'ShoppingMall', 'Spa', 'VRDeck', 'Transported',\n",
       "       'PassengerGroup', 'Deck', 'Num', 'Side', 'TotalSpend', 'AgeGroup',\n",
       "       'VIP_or_Cryo', 'VIP_and_Cryo'],\n",
       "      dtype='object')"
      ]
     },
     "execution_count": 468,
     "metadata": {},
     "output_type": "execute_result"
    }
   ],
   "source": [
    "df_train.columns"
   ]
  },
  {
   "cell_type": "code",
   "execution_count": 469,
   "metadata": {},
   "outputs": [],
   "source": [
    "categorical_cols = ['AgeGroup','Deck', 'Side', 'HomePlanet', 'Destination']\n",
    "\n",
    "df_train = pd.get_dummies(df_train, columns=categorical_cols,dummy_na= True)\n",
    "df_test = pd.get_dummies(df_test, columns=categorical_cols, dummy_na= True)"
   ]
  },
  {
   "cell_type": "code",
   "execution_count": 470,
   "metadata": {},
   "outputs": [
    {
     "data": {
      "text/plain": [
       "(8693, 40)"
      ]
     },
     "execution_count": 470,
     "metadata": {},
     "output_type": "execute_result"
    }
   ],
   "source": [
    "df_train.shape"
   ]
  },
  {
   "cell_type": "code",
   "execution_count": 471,
   "metadata": {},
   "outputs": [
    {
     "data": {
      "text/plain": [
       "Index(['CryoSleep', 'VIP', 'RoomService', 'FoodCourt', 'ShoppingMall', 'Spa',\n",
       "       'VRDeck', 'Transported', 'PassengerGroup', 'Num', 'TotalSpend',\n",
       "       'VIP_or_Cryo', 'VIP_and_Cryo', 'AgeGroup_Child', 'AgeGroup_Young_Adult',\n",
       "       'AgeGroup_Adult', 'AgeGroup_Senior', 'AgeGroup_nan', 'Deck_A', 'Deck_B',\n",
       "       'Deck_C', 'Deck_D', 'Deck_E', 'Deck_F', 'Deck_G', 'Deck_T', 'Deck_U',\n",
       "       'Deck_nan', 'Side_P', 'Side_S', 'Side_U', 'Side_nan',\n",
       "       'HomePlanet_Earth', 'HomePlanet_Europa', 'HomePlanet_Mars',\n",
       "       'HomePlanet_nan', 'Destination_55 Cancri e',\n",
       "       'Destination_PSO J318.5-22', 'Destination_TRAPPIST-1e',\n",
       "       'Destination_nan'],\n",
       "      dtype='object')"
      ]
     },
     "execution_count": 471,
     "metadata": {},
     "output_type": "execute_result"
    }
   ],
   "source": [
    "df_train.columns"
   ]
  },
  {
   "cell_type": "code",
   "execution_count": 472,
   "metadata": {},
   "outputs": [
    {
     "data": {
      "text/plain": [
       "CryoSleep                    0\n",
       "VIP                          0\n",
       "RoomService                  0\n",
       "FoodCourt                    0\n",
       "ShoppingMall                 0\n",
       "Spa                          0\n",
       "VRDeck                       0\n",
       "PassengerGroup               0\n",
       "Num                          0\n",
       "TotalSpend                   0\n",
       "VIP_or_Cryo                  0\n",
       "VIP_and_Cryo                 0\n",
       "AgeGroup_Child               0\n",
       "AgeGroup_Young_Adult         0\n",
       "AgeGroup_Adult               0\n",
       "AgeGroup_Senior              0\n",
       "AgeGroup_nan                 0\n",
       "Deck_A                       0\n",
       "Deck_B                       0\n",
       "Deck_C                       0\n",
       "Deck_D                       0\n",
       "Deck_E                       0\n",
       "Deck_F                       0\n",
       "Deck_G                       0\n",
       "Deck_T                       0\n",
       "Deck_U                       0\n",
       "Deck_nan                     0\n",
       "Side_P                       0\n",
       "Side_S                       0\n",
       "Side_U                       0\n",
       "Side_nan                     0\n",
       "HomePlanet_Earth             0\n",
       "HomePlanet_Europa            0\n",
       "HomePlanet_Mars              0\n",
       "HomePlanet_nan               0\n",
       "Destination_55 Cancri e      0\n",
       "Destination_PSO J318.5-22    0\n",
       "Destination_TRAPPIST-1e      0\n",
       "Destination_nan              0\n",
       "dtype: int64"
      ]
     },
     "execution_count": 472,
     "metadata": {},
     "output_type": "execute_result"
    }
   ],
   "source": [
    "df_test.isnull().sum()"
   ]
  },
  {
   "attachments": {},
   "cell_type": "markdown",
   "metadata": {},
   "source": [
    "### Data scaling"
   ]
  },
  {
   "cell_type": "code",
   "execution_count": 473,
   "metadata": {},
   "outputs": [],
   "source": [
    "X_scale = df_train.drop('Transported', axis=1)\n",
    "y_scale = df_train['Transported']"
   ]
  },
  {
   "cell_type": "code",
   "execution_count": 474,
   "metadata": {},
   "outputs": [],
   "source": [
    "from sklearn.preprocessing import StandardScaler\n",
    "from sklearn.model_selection import train_test_split\n",
    "scaler = StandardScaler()"
   ]
  },
  {
   "cell_type": "code",
   "execution_count": 475,
   "metadata": {},
   "outputs": [],
   "source": [
    "X_scale = scaler.fit_transform(X_scale)\n",
    "X_last_test = scaler.transform(df_test)"
   ]
  },
  {
   "cell_type": "code",
   "execution_count": 476,
   "metadata": {},
   "outputs": [],
   "source": [
    "X_train, X_val, y_train, y_val = train_test_split(X_scale, y_scale, test_size=0.2, random_state=42)"
   ]
  },
  {
   "attachments": {},
   "cell_type": "markdown",
   "metadata": {},
   "source": [
    "## Model Selection and Training"
   ]
  },
  {
   "cell_type": "code",
   "execution_count": 477,
   "metadata": {},
   "outputs": [],
   "source": [
    "# from sklearn.model_selection import cross_val_score\n",
    "# from sklearn.linear_model import LogisticRegression"
   ]
  },
  {
   "cell_type": "code",
   "execution_count": 478,
   "metadata": {},
   "outputs": [],
   "source": [
    "from keras.models import Sequential\n",
    "from keras.layers import Dense, Dropout\n",
    "from tensorflow.keras.regularizers import l1,l2\n",
    "from tensorflow.keras.callbacks import EarlyStopping\n"
   ]
  },
  {
   "cell_type": "code",
   "execution_count": 479,
   "metadata": {},
   "outputs": [],
   "source": [
    "#model = LogisticRegression(max_iter= 1000000,C=10000,solver=\"liblinear\",penalty=\"l1\",class_weight='balanced')"
   ]
  },
  {
   "cell_type": "code",
   "execution_count": 480,
   "metadata": {},
   "outputs": [],
   "source": [
    "#scores = cross_val_score(model, X_train, y_train, cv=5)"
   ]
  },
  {
   "cell_type": "code",
   "execution_count": 481,
   "metadata": {},
   "outputs": [],
   "source": [
    "#print(\"Ortalama çapraz doğrulama skoru: \", scores.mean())"
   ]
  },
  {
   "attachments": {},
   "cell_type": "markdown",
   "metadata": {},
   "source": [
    "Random forest Cross Val Score : 0.7746510533744576\n",
    "\n",
    "Logistic Regresyon Cross Val Score : 0.7879908628360015\n"
   ]
  },
  {
   "cell_type": "code",
   "execution_count": 482,
   "metadata": {},
   "outputs": [],
   "source": [
    "model = Sequential()"
   ]
  },
  {
   "cell_type": "code",
   "execution_count": 483,
   "metadata": {},
   "outputs": [],
   "source": [
    "model.add(Dense(256, input_dim=X_train.shape[1], activation='relu',kernel_regularizer=l2(0.02)))\n",
    "model.add(Dense(128, activation='relu'))\n",
    "model.add(Dropout(0.2))  # Dropout layer\n",
    "model.add(Dense(64, activation='relu'))\n",
    "model.add(Dense(32, activation='relu'))\n",
    "model.add(Dense(16, activation='relu',kernel_regularizer=l2(0.02)))\n",
    "model.add(Dropout(0.1))  # Dropout layer\n",
    "model.add(Dense(8, activation='relu'))\n",
    "model.add(Dense(4, activation='relu',kernel_regularizer=l2(0.02)))\n",
    "model.add(Dropout(0.1))  # Dropout layer\n",
    "model.add(Dense(2, activation='relu'))\n",
    "model.add(Dense(1, activation='sigmoid'))"
   ]
  },
  {
   "cell_type": "code",
   "execution_count": 484,
   "metadata": {},
   "outputs": [],
   "source": [
    "model.compile(loss='binary_crossentropy', optimizer='adam', metrics=['accuracy'])"
   ]
  },
  {
   "cell_type": "code",
   "execution_count": 485,
   "metadata": {},
   "outputs": [],
   "source": [
    "early_stop = EarlyStopping(monitor='val_loss', patience=5)"
   ]
  },
  {
   "cell_type": "code",
   "execution_count": 486,
   "metadata": {},
   "outputs": [
    {
     "name": "stdout",
     "output_type": "stream",
     "text": [
      "Epoch 1/60\n",
      "218/218 [==============================] - 3s 4ms/step - loss: 1.0847 - accuracy: 0.6366 - val_loss: 0.6495 - val_accuracy: 0.7752\n",
      "Epoch 2/60\n",
      "218/218 [==============================] - 1s 3ms/step - loss: 0.6225 - accuracy: 0.7327 - val_loss: 0.5935 - val_accuracy: 0.7648\n",
      "Epoch 3/60\n",
      "218/218 [==============================] - 1s 3ms/step - loss: 0.5889 - accuracy: 0.7325 - val_loss: 0.5653 - val_accuracy: 0.7711\n",
      "Epoch 4/60\n",
      "218/218 [==============================] - 1s 3ms/step - loss: 0.5707 - accuracy: 0.7502 - val_loss: 0.5470 - val_accuracy: 0.7734\n",
      "Epoch 5/60\n",
      "218/218 [==============================] - 1s 3ms/step - loss: 0.5479 - accuracy: 0.7791 - val_loss: 0.5353 - val_accuracy: 0.7717\n",
      "Epoch 6/60\n",
      "218/218 [==============================] - 1s 3ms/step - loss: 0.5406 - accuracy: 0.7788 - val_loss: 0.5338 - val_accuracy: 0.7740\n",
      "Epoch 7/60\n",
      "218/218 [==============================] - 1s 3ms/step - loss: 0.5306 - accuracy: 0.7882 - val_loss: 0.5275 - val_accuracy: 0.7786\n",
      "Epoch 8/60\n",
      "218/218 [==============================] - 1s 3ms/step - loss: 0.5319 - accuracy: 0.7801 - val_loss: 0.5182 - val_accuracy: 0.7895\n",
      "Epoch 9/60\n",
      "218/218 [==============================] - 1s 3ms/step - loss: 0.5235 - accuracy: 0.7834 - val_loss: 0.5160 - val_accuracy: 0.7832\n",
      "Epoch 10/60\n",
      "218/218 [==============================] - 1s 3ms/step - loss: 0.5197 - accuracy: 0.7813 - val_loss: 0.5186 - val_accuracy: 0.7815\n",
      "Epoch 11/60\n",
      "218/218 [==============================] - 1s 3ms/step - loss: 0.5207 - accuracy: 0.7796 - val_loss: 0.5310 - val_accuracy: 0.7700\n",
      "Epoch 12/60\n",
      "218/218 [==============================] - 1s 3ms/step - loss: 0.5141 - accuracy: 0.7860 - val_loss: 0.5018 - val_accuracy: 0.7838\n",
      "Epoch 13/60\n",
      "218/218 [==============================] - 1s 3ms/step - loss: 0.5113 - accuracy: 0.7817 - val_loss: 0.4991 - val_accuracy: 0.7832\n",
      "Epoch 14/60\n",
      "218/218 [==============================] - 1s 3ms/step - loss: 0.5050 - accuracy: 0.7821 - val_loss: 0.5027 - val_accuracy: 0.7849\n",
      "Epoch 15/60\n",
      "218/218 [==============================] - 1s 3ms/step - loss: 0.5146 - accuracy: 0.7768 - val_loss: 0.4962 - val_accuracy: 0.7775\n",
      "Epoch 16/60\n",
      "218/218 [==============================] - 1s 3ms/step - loss: 0.5053 - accuracy: 0.7843 - val_loss: 0.4952 - val_accuracy: 0.7844\n",
      "Epoch 17/60\n",
      "218/218 [==============================] - 1s 3ms/step - loss: 0.5022 - accuracy: 0.7856 - val_loss: 0.4955 - val_accuracy: 0.7878\n",
      "Epoch 18/60\n",
      "218/218 [==============================] - 1s 3ms/step - loss: 0.4971 - accuracy: 0.7843 - val_loss: 0.4940 - val_accuracy: 0.7792\n",
      "Epoch 19/60\n",
      "218/218 [==============================] - 1s 3ms/step - loss: 0.4928 - accuracy: 0.7906 - val_loss: 0.4854 - val_accuracy: 0.7844\n",
      "Epoch 20/60\n",
      "218/218 [==============================] - 1s 3ms/step - loss: 0.5006 - accuracy: 0.7844 - val_loss: 0.5126 - val_accuracy: 0.7780\n",
      "Epoch 21/60\n",
      "218/218 [==============================] - 1s 3ms/step - loss: 0.4969 - accuracy: 0.7836 - val_loss: 0.4998 - val_accuracy: 0.7815\n",
      "Epoch 22/60\n",
      "218/218 [==============================] - 1s 3ms/step - loss: 0.4933 - accuracy: 0.7860 - val_loss: 0.4984 - val_accuracy: 0.7740\n",
      "Epoch 23/60\n",
      "218/218 [==============================] - 1s 3ms/step - loss: 0.4939 - accuracy: 0.7846 - val_loss: 0.5055 - val_accuracy: 0.7809\n",
      "Epoch 24/60\n",
      "218/218 [==============================] - 1s 3ms/step - loss: 0.4942 - accuracy: 0.7889 - val_loss: 0.4955 - val_accuracy: 0.7855\n",
      "Epoch 25/60\n",
      "218/218 [==============================] - 1s 3ms/step - loss: 0.4931 - accuracy: 0.7860 - val_loss: 0.4831 - val_accuracy: 0.7855\n",
      "Epoch 26/60\n",
      "218/218 [==============================] - 1s 3ms/step - loss: 0.4964 - accuracy: 0.7867 - val_loss: 0.4868 - val_accuracy: 0.7786\n",
      "Epoch 27/60\n",
      "218/218 [==============================] - 1s 3ms/step - loss: 0.4867 - accuracy: 0.7900 - val_loss: 0.4843 - val_accuracy: 0.7838\n",
      "Epoch 28/60\n",
      "218/218 [==============================] - 1s 3ms/step - loss: 0.4890 - accuracy: 0.7886 - val_loss: 0.4917 - val_accuracy: 0.7826\n",
      "Epoch 29/60\n",
      "218/218 [==============================] - 1s 3ms/step - loss: 0.4848 - accuracy: 0.7916 - val_loss: 0.4860 - val_accuracy: 0.7809\n",
      "Epoch 30/60\n",
      "218/218 [==============================] - 1s 3ms/step - loss: 0.4891 - accuracy: 0.7889 - val_loss: 0.4814 - val_accuracy: 0.7780\n",
      "Epoch 31/60\n",
      "218/218 [==============================] - 1s 3ms/step - loss: 0.4894 - accuracy: 0.7876 - val_loss: 0.5134 - val_accuracy: 0.7637\n",
      "Epoch 32/60\n",
      "218/218 [==============================] - 1s 3ms/step - loss: 0.4854 - accuracy: 0.7889 - val_loss: 0.5024 - val_accuracy: 0.7729\n",
      "Epoch 33/60\n",
      "218/218 [==============================] - 1s 3ms/step - loss: 0.4889 - accuracy: 0.7890 - val_loss: 0.4837 - val_accuracy: 0.7849\n",
      "Epoch 34/60\n",
      "218/218 [==============================] - 1s 3ms/step - loss: 0.4881 - accuracy: 0.7883 - val_loss: 0.4904 - val_accuracy: 0.7775\n",
      "Epoch 35/60\n",
      "218/218 [==============================] - 1s 3ms/step - loss: 0.4900 - accuracy: 0.7880 - val_loss: 0.4702 - val_accuracy: 0.7884\n",
      "Epoch 36/60\n",
      "218/218 [==============================] - 1s 3ms/step - loss: 0.4826 - accuracy: 0.7922 - val_loss: 0.4878 - val_accuracy: 0.7832\n",
      "Epoch 37/60\n",
      "218/218 [==============================] - 1s 3ms/step - loss: 0.4874 - accuracy: 0.7863 - val_loss: 0.4874 - val_accuracy: 0.7786\n",
      "Epoch 38/60\n",
      "218/218 [==============================] - 1s 3ms/step - loss: 0.4815 - accuracy: 0.7898 - val_loss: 0.4795 - val_accuracy: 0.7930\n",
      "Epoch 39/60\n",
      "218/218 [==============================] - 1s 3ms/step - loss: 0.4839 - accuracy: 0.7912 - val_loss: 0.4958 - val_accuracy: 0.7740\n",
      "Epoch 40/60\n",
      "218/218 [==============================] - 1s 3ms/step - loss: 0.4732 - accuracy: 0.7931 - val_loss: 0.4774 - val_accuracy: 0.7890\n",
      "Epoch 41/60\n",
      "218/218 [==============================] - 1s 3ms/step - loss: 0.4797 - accuracy: 0.7903 - val_loss: 0.4968 - val_accuracy: 0.7792\n",
      "Epoch 42/60\n",
      "218/218 [==============================] - 1s 3ms/step - loss: 0.4740 - accuracy: 0.8013 - val_loss: 0.4886 - val_accuracy: 0.7821\n",
      "Epoch 43/60\n",
      "218/218 [==============================] - 1s 3ms/step - loss: 0.4741 - accuracy: 0.7984 - val_loss: 0.4837 - val_accuracy: 0.7832\n",
      "Epoch 44/60\n",
      "218/218 [==============================] - 1s 3ms/step - loss: 0.4747 - accuracy: 0.7958 - val_loss: 0.4851 - val_accuracy: 0.7832\n",
      "Epoch 45/60\n",
      "218/218 [==============================] - 1s 3ms/step - loss: 0.4808 - accuracy: 0.7922 - val_loss: 0.4726 - val_accuracy: 0.7901\n",
      "Epoch 46/60\n",
      "218/218 [==============================] - 1s 3ms/step - loss: 0.4688 - accuracy: 0.7974 - val_loss: 0.4793 - val_accuracy: 0.7832\n",
      "Epoch 47/60\n",
      "218/218 [==============================] - 1s 3ms/step - loss: 0.4740 - accuracy: 0.7926 - val_loss: 0.4930 - val_accuracy: 0.7746\n",
      "Epoch 48/60\n",
      "218/218 [==============================] - 1s 3ms/step - loss: 0.4787 - accuracy: 0.7880 - val_loss: 0.4793 - val_accuracy: 0.7855\n",
      "Epoch 49/60\n",
      "218/218 [==============================] - 1s 3ms/step - loss: 0.4837 - accuracy: 0.7879 - val_loss: 0.4956 - val_accuracy: 0.7671\n",
      "Epoch 50/60\n",
      "218/218 [==============================] - 1s 3ms/step - loss: 0.4786 - accuracy: 0.7972 - val_loss: 0.4775 - val_accuracy: 0.7884\n",
      "Epoch 51/60\n",
      "218/218 [==============================] - 1s 3ms/step - loss: 0.4797 - accuracy: 0.7947 - val_loss: 0.4785 - val_accuracy: 0.7872\n",
      "Epoch 52/60\n",
      "218/218 [==============================] - 1s 3ms/step - loss: 0.4677 - accuracy: 0.8030 - val_loss: 0.4758 - val_accuracy: 0.7844\n",
      "Epoch 53/60\n",
      "218/218 [==============================] - 1s 3ms/step - loss: 0.4777 - accuracy: 0.7923 - val_loss: 0.4770 - val_accuracy: 0.7849\n",
      "Epoch 54/60\n",
      "218/218 [==============================] - 1s 3ms/step - loss: 0.4731 - accuracy: 0.7965 - val_loss: 0.4817 - val_accuracy: 0.7861\n",
      "Epoch 55/60\n",
      "218/218 [==============================] - 1s 3ms/step - loss: 0.4637 - accuracy: 0.7945 - val_loss: 0.4829 - val_accuracy: 0.7878\n",
      "Epoch 56/60\n",
      "218/218 [==============================] - 1s 3ms/step - loss: 0.4676 - accuracy: 0.8018 - val_loss: 0.4967 - val_accuracy: 0.7677\n",
      "Epoch 57/60\n",
      "218/218 [==============================] - 1s 3ms/step - loss: 0.4721 - accuracy: 0.7980 - val_loss: 0.4730 - val_accuracy: 0.7895\n",
      "Epoch 58/60\n",
      "218/218 [==============================] - 1s 3ms/step - loss: 0.4696 - accuracy: 0.7957 - val_loss: 0.4855 - val_accuracy: 0.7775\n",
      "Epoch 59/60\n",
      "218/218 [==============================] - 1s 3ms/step - loss: 0.4744 - accuracy: 0.7970 - val_loss: 0.4778 - val_accuracy: 0.7849\n",
      "Epoch 60/60\n",
      "218/218 [==============================] - 1s 3ms/step - loss: 0.4652 - accuracy: 0.8023 - val_loss: 0.4817 - val_accuracy: 0.7838\n"
     ]
    },
    {
     "data": {
      "text/plain": [
       "<keras.callbacks.History at 0x26a825e7010>"
      ]
     },
     "execution_count": 486,
     "metadata": {},
     "output_type": "execute_result"
    }
   ],
   "source": [
    "model.fit(X_train, y_train, epochs=60, batch_size=32,shuffle=True, validation_data=(X_val,y_val)) #callbacks=[early_stop]"
   ]
  },
  {
   "cell_type": "code",
   "execution_count": 487,
   "metadata": {},
   "outputs": [
    {
     "name": "stdout",
     "output_type": "stream",
     "text": [
      "218/218 [==============================] - 0s 1ms/step - loss: 0.4125 - accuracy: 0.8202\n",
      "Test setindeki kayıp:  0.4125412404537201\n",
      "Test setindeki doğruluk:  0.8202473521232605\n"
     ]
    }
   ],
   "source": [
    "loss, accuracy = model.evaluate(X_train, y_train)\n",
    "print(\"Test setindeki kayıp: \", loss)\n",
    "print(\"Test setindeki doğruluk: \", accuracy)"
   ]
  },
  {
   "cell_type": "code",
   "execution_count": 488,
   "metadata": {},
   "outputs": [
    {
     "name": "stdout",
     "output_type": "stream",
     "text": [
      "55/55 [==============================] - 0s 2ms/step - loss: 0.4817 - accuracy: 0.7838\n",
      "Test setindeki kayıp:  0.48168593645095825\n",
      "Test setindeki doğruluk:  0.7837837934494019\n"
     ]
    }
   ],
   "source": [
    "loss, accuracy = model.evaluate(X_val, y_val)\n",
    "print(\"Test setindeki kayıp: \", loss)\n",
    "print(\"Test setindeki doğruluk: \", accuracy)"
   ]
  },
  {
   "cell_type": "code",
   "execution_count": 489,
   "metadata": {},
   "outputs": [
    {
     "name": "stdout",
     "output_type": "stream",
     "text": [
      "134/134 [==============================] - 0s 1ms/step\n"
     ]
    }
   ],
   "source": [
    "predicts = model.predict(X_last_test)"
   ]
  },
  {
   "cell_type": "code",
   "execution_count": 490,
   "metadata": {},
   "outputs": [],
   "source": [
    "predicts = predicts > 0.5"
   ]
  },
  {
   "cell_type": "code",
   "execution_count": 491,
   "metadata": {},
   "outputs": [],
   "source": [
    "output = pd.DataFrame({'PassengerId': df_test_original.PassengerId, 'Transported': predicts.flatten()})\n",
    "output['Transported'] = output['Transported'].map({True: 'True', False: 'False'})  \n",
    "output.to_csv('neural_network_submission.csv', index=False)"
   ]
  }
 ],
 "metadata": {
  "kernelspec": {
   "display_name": "Python 3",
   "language": "python",
   "name": "python3"
  },
  "language_info": {
   "codemirror_mode": {
    "name": "ipython",
    "version": 3
   },
   "file_extension": ".py",
   "mimetype": "text/x-python",
   "name": "python",
   "nbconvert_exporter": "python",
   "pygments_lexer": "ipython3",
   "version": "3.11.3"
  },
  "orig_nbformat": 4
 },
 "nbformat": 4,
 "nbformat_minor": 2
}
